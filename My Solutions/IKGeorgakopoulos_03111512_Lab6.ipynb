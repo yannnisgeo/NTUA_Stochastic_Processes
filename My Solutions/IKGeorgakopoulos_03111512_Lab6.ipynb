{
 "cells": [
  {
   "cell_type": "markdown",
   "metadata": {},
   "source": [
    "## Εθνικό Μετσόβιο Πολυτεχνείο \n",
    "## Σχολή Ηλεκτρολόγων Μηχανικών & Μηχανικών Υπολογιστών\n",
    "\n",
    "\n",
    "### Μάθημα: Στοχαστικές διαδικασίες\n",
    "### Διδάσκων: Μιχαήλ Λουλάκης\n",
    "### Ακαδημαϊκό έτος: 2017-2018"
   ]
  },
  {
   "cell_type": "markdown",
   "metadata": {},
   "source": [
    "### Ιωάννης Κ. Γεωργακόπουλος\n",
    "### Α.Μ.: 03111512"
   ]
  },
  {
   "cell_type": "markdown",
   "metadata": {},
   "source": [
    "# 6η Εργαστηριακή Άσκηση"
   ]
  },
  {
   "cell_type": "markdown",
   "metadata": {},
   "source": [
    "#### Δειγματοληψία απόρριψης σε μεγάλες διαστάσεις.\n",
    "\n",
    "Στο προηγούμενο εργαστήριο μάθαμε πώς μπορούμε να επιλέξουμε ομοιόμορφα ένα δείγμα από ένα χωρίο $D$ του επιπέδου και χρησιμοποιήσαμε αυτή τη μέθοδο για να υπολογίσουμε το εμβαδόν του δίσκου. Αυτή η μέθοδος μπορεί να επεκταθεί με προφανή τρόπο και σε περισσότερες διαστάσεις. Η ιδέα ότι αν πάρουμε τυχαία ένα σημείο μέσα στον κύβο με κέντρο το 0 και πλευρά 2, τότε η πιθανότητα αυτό να βρεθεί μέσα στη μοναδιαία μπάλα είναι \n",
    "\n",
    "$$p(d)=\\frac{\\omega(d)}{2^d}.$$\n",
    "\n",
    "Επομένως αν πάρουμε έναν μεγάλο αριθμό $N$ από σημεία μέσα στον κύβο, από τον νόμο των μεγάλων αριθμών, το ποσοστό από αυτά που θα \"πέσουν\" μέσα στη μπάλα είναι μια καλή εκτίμηση της $p(d)$. Αυτό ακριβώς κάνει η συνάρτηση *vol* που ορίζεται στην παρακάτω ρουτίνα."
   ]
  },
  {
   "cell_type": "code",
   "execution_count": 1,
   "metadata": {},
   "outputs": [
    {
     "name": "stdout",
     "output_type": "stream",
     "text": [
      "The Monte Carlo estimate of ω( 3 ) is  : 4.15120 \n"
     ]
    }
   ],
   "source": [
    "import numpy as np\n",
    "\n",
    "from numpy import random\n",
    "\n",
    "def vol(N,d):\n",
    "    nhits = 0\n",
    "    for i in range(N):\n",
    "        x = random.uniform(-1,1,d)\n",
    "        if sum(x ** 2) < 1: \n",
    "            nhits += 1\n",
    "    return 2 ** d * nhits / N\n",
    "\n",
    "d = 3\n",
    "N = 10_000       \n",
    "print (\"The Monte Carlo estimate of ω(\", d,\") is  : %.5f \" % vol(N,d))\n"
   ]
  },
  {
   "cell_type": "markdown",
   "metadata": {},
   "source": [
    "Η παρακάτω συνάρτηση επιστρέφει τον όγκο της μοναδιαίας μπάλας σε $d$ διαστάσεις χρησιμοποιώντας τον αναλυτικό τύπο: \n",
    "    $$\\omega(d) =\\frac{\\pi^{d/2}}{\\Gamma\\big(\\frac{d}{2}+1\\big)}$$ "
   ]
  },
  {
   "cell_type": "code",
   "execution_count": 2,
   "metadata": {},
   "outputs": [
    {
     "name": "stdout",
     "output_type": "stream",
     "text": [
      "The actual value of ω( 3 ) is  : 4.18879 \n"
     ]
    }
   ],
   "source": [
    "from math import gamma, pi \n",
    "\n",
    "def Vol1(d):\n",
    "    x = d/2\n",
    "    return pi ** x / gamma(x + 1)\n",
    "\n",
    "print(\"The actual value of ω(\", d,\") is  : %.5f \" % Vol1(d))"
   ]
  },
  {
   "cell_type": "markdown",
   "metadata": {},
   "source": [
    "## Παραδοτέο 1\n",
    "*α) Γράψτε μια ρουτίνα που θα τυπώνει για διαστάσεις $d=2,3,...$ τον εκτιμόμενο με Monte Carlo όγκο της μοναδιαίας μπάλας σε $d$ διαστάσεις, την πραγματική τιμή του και το σχετικό σφάλμα της εκτίμησης. Η ρουτίνα σας θα πρέπει να επιλέγει $N=10^6$ σημεία στον αντίστοιχο κύβο κάθε διάστασης και θα πρέπει να φτάνει μέχρι εκείνη την τιμή της διάστασης που κανένα από τα $N$ επιλεγμένα σημεία δεν έπεσε στη μπάλα.* "
   ]
  },
  {
   "cell_type": "markdown",
   "metadata": {},
   "source": [
    "Για να ελεγξουμε αν κανένα από τα $Ν$ επιλεγμένα σημεία δεν έπεσε στην μπάλα, αρκεί το vol να είναι 0."
   ]
  },
  {
   "cell_type": "code",
   "execution_count": 3,
   "metadata": {},
   "outputs": [
    {
     "name": "stdout",
     "output_type": "stream",
     "text": [
      "The Monte Carlo estimate of ω( 2 ) is  : 3.14174 \n",
      "The actual value of ω( 2 ) is  : 3.14159 \n",
      "The relative error is 0.00482%\n",
      "The Monte Carlo estimate of ω( 3 ) is  : 4.18413 \n",
      "The actual value of ω( 3 ) is  : 4.18879 \n",
      "The relative error is 0.11130%\n",
      "The Monte Carlo estimate of ω( 4 ) is  : 4.93760 \n",
      "The actual value of ω( 4 ) is  : 4.93480 \n",
      "The relative error is 0.05670%\n",
      "The Monte Carlo estimate of ω( 5 ) is  : 5.27181 \n",
      "The actual value of ω( 5 ) is  : 5.26379 \n",
      "The relative error is 0.15234%\n",
      "The Monte Carlo estimate of ω( 6 ) is  : 5.15834 \n",
      "The actual value of ω( 6 ) is  : 5.16771 \n",
      "The relative error is 0.18145%\n",
      "The Monte Carlo estimate of ω( 7 ) is  : 4.69414 \n",
      "The actual value of ω( 7 ) is  : 4.72477 \n",
      "The relative error is 0.64812%\n",
      "The Monte Carlo estimate of ω( 8 ) is  : 4.03610 \n",
      "The actual value of ω( 8 ) is  : 4.05871 \n",
      "The relative error is 0.55722%\n",
      "The Monte Carlo estimate of ω( 9 ) is  : 3.26707 \n",
      "The actual value of ω( 9 ) is  : 3.29851 \n",
      "The relative error is 0.95306%\n",
      "The Monte Carlo estimate of ω( 10 ) is  : 2.46886 \n",
      "The actual value of ω( 10 ) is  : 2.55016 \n",
      "The relative error is 3.18803%\n",
      "The Monte Carlo estimate of ω( 11 ) is  : 1.81453 \n",
      "The actual value of ω( 11 ) is  : 1.88410 \n",
      "The relative error is 3.69278%\n",
      "The Monte Carlo estimate of ω( 12 ) is  : 1.26976 \n",
      "The actual value of ω( 12 ) is  : 1.33526 \n",
      "The relative error is 4.90561%\n",
      "The Monte Carlo estimate of ω( 13 ) is  : 0.81101 \n",
      "The actual value of ω( 13 ) is  : 0.91063 \n",
      "The relative error is 10.93978%\n",
      "The Monte Carlo estimate of ω( 14 ) is  : 0.72090 \n",
      "The actual value of ω( 14 ) is  : 0.59926 \n",
      "The relative error is 20.29679%\n",
      "The Monte Carlo estimate of ω( 15 ) is  : 0.36045 \n",
      "The actual value of ω( 15 ) is  : 0.38144 \n",
      "The relative error is 5.50417%\n",
      "The Monte Carlo estimate of ω( 16 ) is  : 0.13107 \n",
      "The actual value of ω( 16 ) is  : 0.23533 \n",
      "The relative error is 44.30304%\n",
      "The Monte Carlo estimate of ω( 17 ) is  : 0.13107 \n",
      "The actual value of ω( 17 ) is  : 0.14098 \n",
      "The relative error is 7.02868%\n",
      "The Monte Carlo estimate of ω( 18 ) is  : 0.26214 \n",
      "The actual value of ω( 18 ) is  : 0.08215 \n",
      "The relative error is 219.12006%\n",
      "The Monte Carlo estimate of ω( 19 ) is  : 0.52429 \n",
      "The actual value of ω( 19 ) is  : 0.04662 \n",
      "The relative error is 1024.56026%\n",
      "The Monte Carlo estimate of ω( 20 ) is  : 0.00000 \n",
      "The actual value of ω( 20 ) is  : 0.02581 \n",
      "The relative error is 100.00000%\n",
      "Simulation stopped at  21  dimensions\n"
     ]
    }
   ],
   "source": [
    "def d_check(Ν):\n",
    "    d = 2           # set d\n",
    "    est_vol = 1     # set est_vol for while to work properly\n",
    "    while est_vol > 0:\n",
    "        est_vol = vol(N,d)\n",
    "        actual_vol = Vol1(d)\n",
    "        print (\"The Monte Carlo estimate of ω(\", d,\") is  : %.5f \" % est_vol)\n",
    "        print(\"The actual value of ω(\", d,\") is  : %.5f \" % actual_vol)\n",
    "        err = 100 * abs(1 - est_vol/actual_vol)\n",
    "        print(\"The relative error is %.5f%%\" % err)\n",
    "        d += 1  # increment d, and repeat till est_vol reaches 0\n",
    "    \n",
    "    return d\n",
    "    \n",
    "N = 10**6    \n",
    "print(\"Simulation stopped at \", d_check(N),\" dimensions\")\n",
    "    \n",
    "    \n",
    "    "
   ]
  },
  {
   "cell_type": "markdown",
   "metadata": {},
   "source": [
    "*β) Κάντε τη γραφική παράσταση $d- \\log p(d)$ για τη θεωρητική τιμή της πιθανότητας $p(d)$. Εξηγήστε γιατί το σχετικό σφάλμα της εκτίμησης στο (α) είναι μεγάλο καθώς η διάσταση αυξάνει.*\n",
    "\n",
    "Αρχικά καλούμε τη βιβλιοθήκη matplotlib."
   ]
  },
  {
   "cell_type": "code",
   "execution_count": 4,
   "metadata": {},
   "outputs": [],
   "source": [
    "import matplotlib.pyplot as plt  # library for plotting. We will call it plt in our code\n",
    "\n",
    "# to plot the results in the notebook:\n",
    "%matplotlib inline"
   ]
  },
  {
   "cell_type": "markdown",
   "metadata": {},
   "source": [
    "Στη συνέχεια φτιάχνουμε τους x -y άξονες όπως έχουμε μάθει σε προηγούμενα εργαστήρια, λογαριθμίζοντας τον y."
   ]
  },
  {
   "cell_type": "code",
   "execution_count": 5,
   "metadata": {},
   "outputs": [],
   "source": [
    "\n",
    "# Create a list of real numbers from start to end by step\n",
    "start, end, step = 2, 100, 1\n",
    "\n",
    "x = np.arange(start, end, step)\n",
    "\n",
    "y = []\n",
    "\n",
    "for i in range(len(x)):    #Γεμίζουμε τη λίστα με append   \n",
    "    y.append(Vol1(i)) \n",
    "\n",
    "y = np.log2(y) # λογαριθμίζουμε το y\n",
    "\n"
   ]
  },
  {
   "cell_type": "markdown",
   "metadata": {},
   "source": [
    "Και σχηματίζουμε τελικά τη γραφική παράσταση $d- \\log p(d)$ για τη θεωρητική τιμή της πιθανότητας $p(d)$"
   ]
  },
  {
   "cell_type": "code",
   "execution_count": 6,
   "metadata": {},
   "outputs": [
    {
     "data": {
      "image/png": "[encoded data removed]",
      "text/plain": [
       "<Figure size 864x504 with 1 Axes>"
      ]
     },
     "metadata": {},
     "output_type": "display_data"
    }
   ],
   "source": [
    "plt.figure(figsize=(12, 7))  # define figure size\n",
    "\n",
    "plt.plot(x, y)\n",
    "plt.xlabel('d')\n",
    "plt.ylabel('log p(d)')\n",
    "plt.title('d - log p(d) plot')\n",
    "plt.grid(True)  # add grid-lines"
   ]
  },
  {
   "cell_type": "markdown",
   "metadata": {},
   "source": [
    "Παρατηρούμε ότι όσο αυξάνονται οι διαστάσεις, η *log p(d)* μειώνεται δραματικά. Αυτό σημαίνει ότι η πιθανότητα να πέσουν μέσα στη μπάλα όσο αυξάνονται οι διαστάσεις, μειώνεται επίσης δραματικά. Γι'αυτό το λόγο καθώς αυξάνονται οι διαστάσεις πέρα από τις 2-3, το σφάλμα εκτίμησης εκτοξεύεται."
   ]
  },
  {
   "cell_type": "markdown",
   "metadata": {},
   "source": [
    "*γ) Αν θέλατε να πάρετε 1000 δείγματα στη μοναδιαία μπάλα 20 διαστάσεων με τη μέθοδο της απόρριψης όπως παραπάνω, πόσα περίπου δείγματα στον κύβο θα έπρεπε να φτιάξετε? Κάντε μια εκτίμηση του χρόνου που θα χρειαζόταν αυτό στον υπολογιστή σας.*"
   ]
  },
  {
   "cell_type": "markdown",
   "metadata": {},
   "source": [
    "Δεδομένου ότι για ένα εκατομμύσιο δείγματα δεν έχω κανένα hit στις 19 διαστάσεις, πιάστ'αυγό και κούρεφτο. \n",
    "\n",
    "Μιας και δεν εστάλη μέηλ για την ανάρτηση της 6ης άσκησης και άργησα να το δω (φταίω φυσικά), θα αρκεστώ στην εκτίμηση ότι θα χρειαστεί πολλύυυυυυυυυυυυυυυυυυυυυυυυυυυυυυυυυυυυυυυυυυυυυυυυυυυυυυυυυυυυυυυυυυς χρόνος (πολύς πολύς). "
   ]
  },
  {
   "cell_type": "markdown",
   "metadata": {},
   "source": [
    "#### Δειγματοληψία με MCMC\n",
    "Είδαμε παραπάνω ότι η μέθοδος της απόρριψης δεν είναι πρακτική για να κάνουμε δειγματοληψία από μια σφαίρα μεγάλων διαστάσεων. Θα δούμε τώρα πώς μπορούμε να λύσουμε αυτό το πρόβλημα χρησιμοποιώντας ιδέες από τις μαρκοβιανές αλυσίδες (Markov Chain Monte Carlo- MCMC)\n",
    "\n",
    "Συγκεκριμένα, για μια μη υποβιβάσιμη μαρκοβιανή αλυσίδα με συμμετρικές πιθανότητες μετάβασης η μοναδική αναλλοίωτη κατανομή είναι η ομοιόμορφη κατανομή στον χώρο των καταστάσεων. Πράγματι, επειδή οι πιθανότητες μετάβασης είναι συμμετρικές ο πίνακας πιθανοτήτων μετάβασης θα είναι διπλά στοχαστικός και το ζητούμενο προκύπτει όπως στο Παράδειγμα 42 του Κεφαλαίου 5 του βιβλίου. Επομένως, προκειμένου να επιλέξουμε τυχαία ένα σημείο από ένα χωρίο $D$, μπορούμε να θεωρήσουμε μια μαρκοβιανή αλυσίδα που εξελίσσεται στο $D$, έχει συμμετρικές πιθανότητες μετάβασης και να την αφήσουμε να κάνει αρκετά βήματα ώστε να έρθει κοντά στην κατάσταση ισορροπίας της. \n",
    "\n",
    "Ένας τρόπος να το πετύχουμε αυτό είναι ο εξής. Έστω $X_n= x\\in D$. Θα δοκιμάσουμε να μετακινηθούμε κατά $z$ όπου η κατανομή του βήματος $z$ είναι συμμετρική γύρω από το 0. Αν το σημείο $x+z$ παραμένει μέσα στο $D$ θα πραγματοποιήσουμε τη μετακίνηση, θα ορίσουμε δηλαδή $X_{n+1}=x+z$, διαφορετικά θα παραμείνουμε στο $x$, θα ορίσουμε δηλαδή $X_{n+1}=x$. Πεισθείτε ότι αυτός ο μηχανισμός παράγει συμμετρικές πιθανότητες μετάβασης.\n",
    "\n",
    "Ο παρακάτω αλγόριθμος υλοποιεί αυτή την ιδέα για να πάρει 1.000 δείγματα από μια τυχαία μεταβλητή με ομοιόμορφη κατανομή στον μοναδιαίο δίσκο\n",
    "\n",
    "$$\n",
    "D_2=\\{(x,y)\\in\\mathbb{R}^2: x^2+y^2 < 1\\}.\n",
    "$$\n",
    "\n",
    "Η αλυσίδα ξεκινά από το μηδέν και σε κάθε βήμα δοκιμάζει μια παράλληλη μετατόπιση προς έναν από τους άξονες, \n",
    "με ομοιόμορφη κατανομή στο (-delta, +delta). Αν η μετατόπιση αυτή αφήνει την αλυσίδα στον δίσκο, πραγματοποιείται.\n",
    "Αν η μετατόπιση θα οδηγούσε την αλυσίδα έξω από τον δίσκο, τότε δεν πραγματοποιείται και η αλυσίδα παραμένει στη θέση που είχε την προηγούμενη χρονική στιγμή. Αφήνουμε την αλυσίδα να κάνει $N=100$ βήματα πριν πάρουμε ένα δείγμα."
   ]
  },
  {
   "cell_type": "code",
   "execution_count": 7,
   "metadata": {},
   "outputs": [],
   "source": [
    "import random as r\n",
    "\n",
    "delta = 1.0\n",
    "N = 100 # number of steps to approach equilibrium\n",
    "samples = 1000 \n",
    "point_x = []\n",
    "point_y = []\n",
    "\n",
    "for _ in range(samples):\n",
    "    x = [0,0]  ## start at the centre of th disc. This variable will keep the position of the chain\n",
    "    R_sq = 0.0  ## this variable keeps the squared distance from 0. It saves some computations to keep it\n",
    "    \n",
    "    for _ in range(N):\n",
    "        k = r.choice([0,1])  ## choose a jump direction at random\n",
    "        z = r.uniform(-delta,delta) ## choose a jump size uniformly in (-delta,delta)\n",
    "        x_prop_k = x[k] + z   ## propose a jump by z in the direction k\n",
    "        R_sqprop = R_sq - x[k]**2+ x_prop_k**2 ## compute the squared distance from 0 after the proposed jump \n",
    "        if R_sqprop < 1.0: \n",
    "            R_sq = R_sqprop\n",
    "            x[k]= x_prop_k   ## if the proposed jump leads to a point in the disc, then jump\n",
    "   \n",
    "    point_x.append(x[0])\n",
    "    point_y.append(x[1])"
   ]
  },
  {
   "cell_type": "markdown",
   "metadata": {},
   "source": [
    "Φανταστείτε τώρα ότι θέλουμε να πάρουμε ένα δείγμα από τον κύλινδρο \n",
    "\n",
    "$$\n",
    "C_3=\\{\\,(x_1,x_2,x_3)\\in\\mathbb{R}^{3}:\\ (x_1,x_2)\\in D_2,\\, |x_3| <1 \\}.\n",
    "$$ \n",
    "\n",
    "Αυτό θα μπορούσαμε να το κάνουμε επιλέγοντας το $(x_1,x_2)$ ομοιόμορφα στον δίσκο $D_2$ και στη συνέχεια τη συντεταγμένη $x_3$ ομοιόμορφα στο (-1,+1). Η πιθανότητα ένα τυχαία επιλεγμένο σημείο από τον κύλινδρο $C_3$ να πέσει μέσα στη μπάλα $D_3=\\{(x_1,x_2,x_3)\\in\\mathbb{R}^3: x_1^2+x_2^2+x_3^2<1\\}$ είναι τότε \n",
    "\n",
    "$$ \\frac{|D_3|}{|C_3|}= \\frac{|D_3|}{2|D_2|}$$\n",
    "\n",
    "αφού ο όγκος του κυλίνδρου $|C_2|$ είναι επιφάνεια βάσης ($\\,|D_2|\\,$) επί το ύψος του (2). Χρησιμοποιώντας δείγματα από τον κύλινδρο $C_3$ και μετρώντας πόσα από αυτά έπεσαν στον $D_2$ μπορούμε επομένως να εκτιμήσουμε τον λόγο $|D_3|/|D_2|$.\n",
    "\n",
    "Η διαδικασία αυτή μπορεί να γενικευτεί σε $d$ διαστάσεις χωρίς πρόβλημα. Δεν είναι δύσκολο να τροποποιήσει κανείς τον παραπάνω αλγόριθμο ώστε να παίρνει τυχαία σημεία στη $d$-διάστατη μοναδιαία μπάλα\n",
    "\n",
    "$$ D_d = \\{(x_1,\\ldots,x_{d})\\in\\mathbb{R}^{d}:\\ x_1^2+\\cdots+x_d^2 <1  \\}.$$ \n",
    "\n",
    "Η αλυσίδα μας από την κατασκευή της παραμένει μέσα στη μπάλα $D_d$, επομένως το μόνο πρόβλημα που έχουμε να λύσουμε είναι να αφήσουμε την αλυσίδα να κάνει αρκετά βήματα ώστε να έρθει κοντά στην ισορροπία. \n",
    "Στη συνέχεια μπορούμε να πάρουμε τυχαία σημεία από τον κύλινδρο \n",
    "\n",
    "$$\n",
    "C_{d+1}=\\{\\,(x_1,\\ldots,x_{d+1})\\in\\mathbb{R}^{d+1}:\\ (x_1,\\ldots,x_d)\\in D_d,\\, |x_{d+1} | <1 \\}.\n",
    "$$\n",
    "\n",
    "επιλέγοντας τις πρώτες $d$ συντεταγμένες τους ομοιόμορφα στην $D_d$ και την τελευταία ομοιόμορφα στο (-1,1).\n",
    "Το ποσοστό αυτών των σημείων που πέφτουν μέσα στη μπάλα $D_{d+1}$ μπορεί να μας δώσει μια εκτίμηση για τον λόγο $|D_{d+1}|/|D_d|$."
   ]
  },
  {
   "cell_type": "markdown",
   "metadata": {},
   "source": [
    "## Παραδοτέο 2\n",
    "\n",
    "α) Κατασκευάστε ένα scatter plot στο οποίο θα φαίνονται τα 1000 δείγματα που πήρατε απο τον δίσκο $D_2$ με τον παραπάνω αλγόριθμο MCMC. Στη συνέχεια κάντε το ίδιο για delta = 0.01 και για delta = 20. Εξηγήστε σε ένα κελί κειμένου γιατί το αποτέλεσμα 'χαλάει' όταν το delta είναι \"πολύ μικρό\" ή \"πολύ μεγάλο\"?"
   ]
  },
  {
   "cell_type": "markdown",
   "metadata": {},
   "source": [
    "β) Γράψτε μια ρουτίνα που θα τυπώνει για διαστάσεις $d=2,3,...,100$ τον εκτιμόμενο με MCMC όγκo της μοναδιαίας μπάλας σε $d$ διαστάσεις, την πραγματική τιμή του και το σχετικό σφάλμα της εκτίμησης. Μπορείτε να ξεκινήσετε από την προφανή σχέση $|D_1|=2$ και να δουλέψετε επαγωγικά για να υπολογίσετε τα ω(2), ω(3),... Στο jupyter notebook που θα παραδώσετε τρέξτε τη ρουτίνα σας ώστε να φαίνονται τα αποτελέσματα."
   ]
  }
 ],
 "metadata": {
  "kernelspec": {
   "display_name": "Python 3",
   "language": "python",
   "name": "python3"
  },
  "language_info": {
   "codemirror_mode": {
    "name": "ipython",
    "version": 3
   },
   "file_extension": ".py",
   "mimetype": "text/x-python",
   "name": "python",
   "nbconvert_exporter": "python",
   "pygments_lexer": "ipython3",
   "version": "3.6.5"
  }
 },
 "nbformat": 4,
 "nbformat_minor": 2
}
