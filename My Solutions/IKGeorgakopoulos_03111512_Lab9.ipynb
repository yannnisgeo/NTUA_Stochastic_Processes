{
 "cells": [
  {
   "cell_type": "markdown",
   "metadata": {},
   "source": [
    "## Εθνικό Μετσόβιο Πολυτεχνείο \n",
    "## Σχολή Ηλεκτρολόγων Μηχανικών & Μηχανικών Υπολογιστών\n",
    "\n",
    "\n",
    "### Μάθημα: Στοχαστικές διαδικασίες\n",
    "### Διδάσκων: Μιχαήλ Λουλάκης\n",
    "### Ακαδημαϊκό έτος: 2017-2018\n"
   ]
  },
  {
   "cell_type": "markdown",
   "metadata": {},
   "source": [
    "### Ιωάννης Κ. Γεωργακόπουλος\n",
    "### Α.Μ.: 03111512\n"
   ]
  },
  {
   "cell_type": "markdown",
   "metadata": {},
   "source": [
    "# 9η Εργαστηριακή Άσκηση"
   ]
  },
  {
   "cell_type": "markdown",
   "metadata": {},
   "source": [
    "Σε αυτό το εργαστήριο θα εργαστούμε πάνω σε ενδιαφέρουσες εφαρμογές των τεχνικών που μάθαμε στο προηγούμενο.\n",
    "Στο τέλος μάλιστα, θα κατασκευάσουμε μία προσεγγιστική λύση του προβλήματος του πλανώδιου πωλητή.\n",
    "\n",
    "Στα πλαίσια του εργαστηρίου θα χρησιμοποιήσουμε τις παρακάτω βιβλιοθήκες."
   ]
  },
  {
   "cell_type": "code",
   "execution_count": 1,
   "metadata": {},
   "outputs": [],
   "source": [
    "import numpy as np\n",
    "import matplotlib.pyplot as plt\n",
    "\n",
    "%matplotlib inline\n",
    "plt.rcParams[\"figure.figsize\"] = (10, 6)  # increase default figure size\n",
    "\n",
    "np.random.seed(2018)  # for reproducibility"
   ]
  },
  {
   "cell_type": "markdown",
   "metadata": {},
   "source": [
    "# Άσκηση 1: Προσομοιωμένη Ανόπτηση\n",
    "\n",
    "Στην άσκηση αυτή θα χρησιμοποιήσουμε τη μέθοδο της προσομοιωμένης ανόπτησης\n",
    "([simulated annealing](https://en.wikipedia.org/wiki/Simulated_annealing)) για\n",
    "να βρουμε το ελάχιστο μιας συνάρτησης $V: \\mathbb{R} \\to \\mathbb{R}$. \n",
    "Εν προκειμένω θα μελετήσουμε την πολυωνυμική συνάρτηση:\n",
    "\n",
    "$$ V(x) = \\frac{13}{90} x^4 - \\frac{3}{10} x^3 - \\frac{101}{45} x^2 \\frac{13}{15}x + 4$$\n",
    "\n",
    "Η γραφική της παράσταση κατασκευάζεται στο παρακάτω κελί.\n"
   ]
  },
  {
   "cell_type": "code",
   "execution_count": 2,
   "metadata": {},
   "outputs": [
    {
     "data": {
      "image/png": "[encoded data removed]",
      "text/plain": [
       "<Figure size 720x504 with 1 Axes>"
      ]
     },
     "metadata": {},
     "output_type": "display_data"
    }
   ],
   "source": [
    "def V(x):\n",
    "    \"\"\"Energy (objective) function to minimize\"\"\"\n",
    "    return np.polyval((13/90, -3/10, -101/45, 13/15, 4.0), x)\n",
    "\n",
    "x = np.linspace(-3.5, 5.5, 1000) #Διαλέγουμε κατάλληλα όρια ώστε να φαίνονται τα ακρότατα της συνάρτησης\n",
    "\n",
    "plt.figure(figsize = (10, 7))\n",
    "plt.plot(x, V(x))\n",
    "plt.xlabel(\"x\")\n",
    "plt.ylabel(\"V(x)\")\n",
    "plt.title('Γραφική παράσταση της V(x)')\n",
    "plt.grid(True)\n",
    "plt.show()"
   ]
  },
  {
   "cell_type": "markdown",
   "metadata": {},
   "source": [
    "Θα υπολογίσουμε αιτιοκρατικά το τοπικό και ολικό ελάχιστο, ώστε να τα έχουμε ως benchmarks στη συνέχεια.\n"
   ]
  },
  {
   "cell_type": "code",
   "execution_count": 3,
   "metadata": {},
   "outputs": [],
   "source": [
    "#np.argmin(V(x))\n",
    "\n",
    "LocalMin = -2.2293\n",
    "GlobalMin = 3.60005"
   ]
  },
  {
   "cell_type": "markdown",
   "metadata": {},
   "source": [
    "Ακολουθεί ο αλγόριθμος Metropolis-Hastings για την στοχαστική προσεγγιστική εύρεση των ελαχίστων."
   ]
  },
  {
   "cell_type": "code",
   "execution_count": 4,
   "metadata": {},
   "outputs": [],
   "source": [
    "def sim_anneal(f, x_low, x_high,\n",
    "               T=2.0, T_min=2**(-12), \n",
    "               cool_factor=0.9, cool_sch=100,\n",
    "               delta = 1.0, shrink_factor=0.5, shrink_thres=0.25,\n",
    "               trace = False):\n",
    "    \n",
    "    # Initialize\n",
    "    x = np.random.uniform(x_low, x_high)\n",
    "    f_cur = f(x)  # current value of f\n",
    "    steps = accepted = 0\n",
    "    if trace: path = []\n",
    "\n",
    "    # Main loop\n",
    "    while T > T_min:\n",
    "        \n",
    "        # proposed new position\n",
    "        x_new = x + np.random.uniform(-delta, delta)\n",
    "        if x_new > x_high or x_new < x_low:\n",
    "            continue  # skip this proposal\n",
    "        f_new = f(x_new)\n",
    "\n",
    "        # accept/reject jump\n",
    "        if np.log(np.random.rand()) < -(f_new - f_cur) / T :\n",
    "            x, f_cur = x_new, f_new\n",
    "            accepted += 1            \n",
    "                \n",
    "        # Cooling\n",
    "        if steps == cool_sch:  # time for the next cooling\n",
    "            T *= cool_factor  # cool down\n",
    "            # Adjust Search Space\n",
    "            if accepted / steps < shrink_thres:\n",
    "                delta *= shrink_factor\n",
    "            steps = accepted = 0\n",
    "        \n",
    "        if trace: path.append(x)\n",
    "        steps += 1        \n",
    "        \n",
    "    \n",
    "    if trace: return path\n",
    "    return x"
   ]
  },
  {
   "cell_type": "markdown",
   "metadata": {},
   "source": [
    "Οι παράμετροι της συνάρτησης `sim_anneal` είναι:\n",
    "\n",
    "* **`f`**: η συνάρτηση που θέλουμε να ελαχιστοποιήσουμε\n",
    "* **`x_low, x_high`**: Το όρια μέσα στα οποία ψάχνουμε να βρούμε το ελάχιστο\n",
    "* **`T, T_min`**: Η αρχική και η τελική θερμοκρασία της \"ανόπτησης\"\n",
    "* **`cool_factor`**: Πόσο μειώνεται η θερμοκρασία σε κάθε κύκλο ψύξης (ποσοστό της προηγούμενης)\n",
    "* **`cool_sch`**: Κάθε πόσα βήματα να μειώνεται η θερμοκρασία\n",
    "* **`delta`**: Ακτίνα από την οποία θα προτείνουμε άλμα\n",
    "* **`shrink_factor`**: Πόσο θα μειώσουμε το `delta` αν δούμε ότι η μέθοδος έχει κολλήσει\n",
    "* **`shirnk_thres`**: Ποσοστό το επιτυχημένων αλμάτων κάτω από το οποίο θεωρούμε ότι το σωματίδιο έχει κολλήσει.\n",
    "* **`trace`**: Αν θέλουμε να μας γυρίσει όλη την διαδρομή ή μόνο την τελική θέση\n",
    "\n",
    "Επομένως για να βρούμε το ελάχιστο της συνάρτησης $V$ που ορίσαμε προηγουμένως στο\n",
    "διάστημα $(-3.5, 5.5)$ τρέχουμε την συνάρτηση με τις εξής παραμέτρους.\n",
    "\n",
    "*Παρατήρηση: Ζητάμε όλο το μονοπάτι του σωματιδίου για να το πλοτάρουμε αργότερα.*"
   ]
  },
  {
   "cell_type": "code",
   "execution_count": 5,
   "metadata": {},
   "outputs": [
    {
     "data": {
      "text/plain": [
       "3.5963735407238038"
      ]
     },
     "execution_count": 5,
     "metadata": {},
     "output_type": "execute_result"
    }
   ],
   "source": [
    "# Parameters\n",
    "T_start, T_end = 2.0, 2**(-12)\n",
    "cool_sch, cool_factor = 100, 0.99\n",
    "\n",
    "path = sim_anneal(V, -3.5, 5.5, delta = 1.,                      \n",
    "                  T = T_start, T_min = T_end,\n",
    "                  cool_factor = cool_factor, \n",
    "                  cool_sch = cool_sch,\n",
    "                  trace = True)  # keep the default for the rest, (-3.5,5) ώστε να βρω τα ελάχιστα \n",
    "\n",
    "path[-1]  # last position"
   ]
  },
  {
   "cell_type": "markdown",
   "metadata": {},
   "source": [
    "Το επόμενο κελί κώδικα οπτικοποιεί τη διαδικασία. (Σε pop-up window, όπως στο προηγούμενο)\n",
    "\n",
    "Διαβάζοντας το source code του animate_simanneal.py, παρατηρήσαμε ότι το πολυώνυμο με το οποίο μας ζητήθηκε να εργαστούμε, λαμβάνεται αν δόσουμε ως όρισμα -minima 2."
   ]
  },
  {
   "cell_type": "code",
   "execution_count": 23,
   "metadata": {},
   "outputs": [],
   "source": [
    "%matplotlib qt\n",
    "%run ../animate_simanneal.py -minima 2"
   ]
  },
  {
   "cell_type": "markdown",
   "metadata": {},
   "source": [
    "Στη συνέχεια, τρέχουμε το παρακάτω κελί ώστε τα επόμενα διαγράμματα να εμφανίζονται μέσα στο notebook."
   ]
  },
  {
   "cell_type": "code",
   "execution_count": 7,
   "metadata": {},
   "outputs": [],
   "source": [
    "%matplotlib inline"
   ]
  },
  {
   "cell_type": "markdown",
   "metadata": {},
   "source": [
    "### Ερώτημα Α)\n",
    "\n",
    "Θα φτιάξουμε ένα loop με 200 επαναλήψεις και θα συγκρίνουμε την τιμή που βρίσκουμε με τα 2 benchmarks κάθε φορά, ώστε να υπολογίσουμε το ποσοστό."
   ]
  },
  {
   "cell_type": "code",
   "execution_count": 11,
   "metadata": {},
   "outputs": [
    {
     "name": "stdout",
     "output_type": "stream",
     "text": [
      "Ποσοστό εύρεσης κάποιου τοπικού ελαχίστου:  0.0 %\n",
      "Ποσοστό εύρεσης ολικού ελαχίστου:         100.0 %\n"
     ]
    }
   ],
   "source": [
    "N = 10 # Αρχικοποίηση επαναλήψεων\n",
    "\n",
    "N_Local  = 0 # Πλήθος output που βρίσκουν το Local Minima\n",
    "N_Global = 0 # Πλήθος output που βρίσκουν το Global Minima \n",
    "\n",
    "for i in range(N):\n",
    "    path = sim_anneal(V, -3.5, 5, delta = 1.,                      \n",
    "                  T = T_start, T_min = T_end,\n",
    "                  cool_factor = cool_factor, \n",
    "                  cool_sch = cool_sch,\n",
    "                  trace = True)  # keep the default for the rest, (-3.5,5) ώστε να βρω τα ελάχιστα \n",
    "     \n",
    "    if abs(path[-1]-LocalMin)<=0.05:\n",
    "        N_Local  += 1\n",
    "    if abs(path[-1]-GlobalMin)<=0.05:\n",
    "        N_Global += 1\n",
    "\n",
    "print('Ποσοστό εύρεσης κάποιου τοπικού ελαχίστου: ', 100*N_Local/N,'%')\n",
    "print('Ποσοστό εύρεσης ολικού ελαχίστου:        ', 100*N_Global/N, '%')    "
   ]
  },
  {
   "cell_type": "markdown",
   "metadata": {},
   "source": [
    "Παρατηρούμε ότι ο αλγόριθμος βρίσκει με εξαιρετικά μεγάλη πιθανότητα το ολικό ελάχιστο. Αυτό συμβαίνει επειδή ο default cool factor που έχουμε δώσει είναι μεγάλος."
   ]
  },
  {
   "cell_type": "markdown",
   "metadata": {},
   "source": [
    "### Ερώτημα Β)\n",
    "\n",
    "Θα φτιάξουμε μια λίστα με τα cool factors και θα κατασκευάσουμε την λίστα με την πιθανότητα εύρεσης τοπικού ελαχίστου."
   ]
  },
  {
   "cell_type": "code",
   "execution_count": 9,
   "metadata": {},
   "outputs": [
    {
     "name": "stdout",
     "output_type": "stream",
     "text": [
      "[0.6 0.9 0.7 0.5 0.7 0.7 1.  1. ]\n"
     ]
    }
   ],
   "source": [
    "new_cool_factor = [0.25, 0.5, 0.6, 0.7, 0.8, 0.9, 0.95, 0.99]\n",
    "Global = np.zeros(len(new_cool_factor), dtype=float)\n",
    "\n",
    "for j,i in enumerate(new_cool_factor): \n",
    "\n",
    "    for w in range(N):\n",
    "        \n",
    "        path = sim_anneal(V, -3.5, 5.5, cool_factor= i, trace = True)\n",
    "        # print(path[-1])\n",
    "\n",
    "        if abs(path[-1]-GlobalMin)<=0.05:\n",
    "            Global[j] += 1\n",
    "    \n",
    "print(Global/N)"
   ]
  },
  {
   "cell_type": "markdown",
   "metadata": {},
   "source": [
    "Ακολουθεί ο κώδιξ με το ζητούμενο διάγραμμα."
   ]
  },
  {
   "cell_type": "code",
   "execution_count": 10,
   "metadata": {},
   "outputs": [
    {
     "data": {
      "image/png": "[encoded data removed]",
      "text/plain": [
       "<Figure size 576x360 with 1 Axes>"
      ]
     },
     "metadata": {},
     "output_type": "display_data"
    }
   ],
   "source": [
    "y = Global/N\n",
    "\n",
    "# Let's plot (x,y)\n",
    "plt.figure(figsize = (8, 5))\n",
    "plt.plot(new_cool_factor, y)\n",
    "# Specify some extra attributes\n",
    "plt.xlabel('new_cool_factor')\n",
    "plt.ylabel('y')\n",
    "plt.title('Ερώτημα Β.')\n",
    "plt.grid(True)"
   ]
  },
  {
   "cell_type": "markdown",
   "metadata": {},
   "source": [
    "Τα αποτελέσματα είναι ενδιαφέροντα και ταυτόχρονα αναμενόμενα, καθώς δείχνουν ότι όσο αυξάνουμε τον cool_factor, τα άλματά μας γίνοται μικρότερα άρα και η αναζήτηση γίνεται πιο αυστηρή οπότε βρίσκουμε με μεγαλύτερη πιθανότητα το σωστό ελάχιστο."
   ]
  },
  {
   "cell_type": "code",
   "execution_count": null,
   "metadata": {},
   "outputs": [],
   "source": []
  }
 ],
 "metadata": {
  "kernelspec": {
   "display_name": "Python 3",
   "language": "python",
   "name": "python3"
  },
  "language_info": {
   "codemirror_mode": {
    "name": "ipython",
    "version": 3
   },
   "file_extension": ".py",
   "mimetype": "text/x-python",
   "name": "python",
   "nbconvert_exporter": "python",
   "pygments_lexer": "ipython3",
   "version": "3.6.5"
  }
 },
 "nbformat": 4,
 "nbformat_minor": 2
}
