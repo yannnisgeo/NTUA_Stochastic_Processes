{
 "cells": [
  {
   "cell_type": "markdown",
   "metadata": {},
   "source": [
    "## Εθνικό Μετσόβιο Πολυτεχνείο \n",
    "## Σχολή Ηλεκτρολόγων Μηχανικών & Μηχανικών Υπολογιστών\n",
    "\n",
    "\n",
    "### Μάθημα: Στοχαστικές διαδικασίες\n",
    "### Διδάσκων: Μιχαήλ Λουλάκης\n",
    "### Ακαδημαϊκό έτος: 2017-2018\n"
   ]
  },
  {
   "cell_type": "markdown",
   "metadata": {},
   "source": [
    "### Ιωάννης Κ. Γεωργακόπουλος\n",
    "### Α.Μ.: 03111512\n"
   ]
  },
  {
   "cell_type": "markdown",
   "metadata": {},
   "source": [
    "# 2η Εργαστηριακή Άσκηση"
   ]
  },
  {
   "cell_type": "markdown",
   "metadata": {},
   "source": [
    "Σε αυτή την άσκηση θα εξοικοιωθούμε με την μέθοδο Mode Carlo."
   ]
  },
  {
   "cell_type": "markdown",
   "metadata": {},
   "source": [
    "## Ασκήσεις 33-35 βιβλίου:\n",
    "\n",
    "Στο πρώτο μέρος της άσκησης θα επιλύσουμε την άσκηση 19 του βιβλίου, θέτοντας $p = \\frac{1}{6}$. \n",
    "\n",
    "\n",
    "**Άσκηση 19** Ο πίνακας πιθανοτήτων μετάβασης P, της μαρκοβιανής αλυσίδας με χώρο καταστάσεων  $\\mathbb{X}=$ {0,1,2} γράφεται για $p = \\frac{1}{6}$: \n",
    "\n",
    "$P=\\begin{pmatrix}0&1/2&1/2\\\\1/3&1/3&1/3\\\\1/6&1/2&1/3\\end{pmatrix}$ \n",
    "\n",
    "Σημείωση: Στην εκφώνηση του βιβλίου, ο χώρος καταστάσεων είναι ο $\\mathbb{X}=$ {1,2,3}, αλλά εμείς τον τροποιούμε σε $\\mathbb{X}=$ {0,1,2} χάριν ευκολίας.\n",
    "\n"
   ]
  },
  {
   "cell_type": "markdown",
   "metadata": {},
   "source": [
    " ### Κατασκευή αρχικής κατανομής & πίνακα πιθανοτήτων μετάβασης\n",
    "\n",
    "\n",
    "Παρακάτω κατασκευάζουμε την αρχική κατανομή, τον πίνακα πιθανοτήτων μετάβασης, και θέτουμε $p=1/6$.\n",
    "\n",
    "Χρησιμοποιούμε την random.seed() για την εποπτεία των αποτελεσμάτων του κώδικά μας. \n",
    "(H random τροφοδοτείται με την ίδια αρχική τιμή κάθε φορα, οπότε η ακολουθία αριθμών που παράγει παραμένει σταθερή.)\n"
   ]
  },
  {
   "cell_type": "code",
   "execution_count": 1,
   "metadata": {},
   "outputs": [],
   "source": [
    "import random\n",
    "random.seed(2018)  # for reproducibility\n",
    "from simple_markov_chain_lib import markov_chain\n",
    "\n",
    "p = 1/6\n",
    "\n",
    "# A dictionary for the initial distibution. \n",
    "# We prescribe the initial distribution\n",
    "init_probs = {0: 1.0} \n",
    " \n",
    "# A dictionary for the transition probability  matrix. \n",
    "# Every state-key corresponds to a list with tuples of (Next_State,Probability) \n",
    "markov_table = {\n",
    "    0: {1: 1/2, 2: 1/2},\n",
    "    1: {0: 1/3, 1: 1/3, 2: 1/3},\n",
    "    2: {0: p, 1: 2/3-p, 2: 1/3}\n",
    "}\n",
    " \n",
    "# Ok... we are ready now\n",
    "# Let's construct a Markov Chain. So let's call the constructor\n",
    "mc = markov_chain(markov_table, init_probs)"
   ]
  },
  {
   "cell_type": "markdown",
   "metadata": {},
   "source": [
    "Θέλουμε να εκτιμήσουμε την πιθανότητα $\\mathbb{P}_0[X_{20}=0]=\\mathbb{P}\\left[X_{20} = 0 \\mid X_0 = 0 \\right]$. \n",
    "\n",
    "Για να το κάνουμε αυτό, θα τρέξουμε την αλυσίδα πολλές φορές (παράμετρος `N`) ξεκινώντας πάντα από την κατάσταση `0` και θα μετρήσουμε σε πόσες από αυτές η αλυσίδα βρέθηκε στην κατάσταση `0` μετά από `20` βήματα (παράμετρος `steps`), δηλαδή πόσες φορές συνέβη το ενδεχόμενο $\\{X_{20}=0\\}$. Κάθε φορά που εκτελούμε τον βρόχο **`for`** παρακάτω παίρνουμε ένα ανεξάρτητο δείγμα της τ.μ. $Y$ που έχει την τιμή 1, αν $X_{20}=0$, και την τιμή 0, αν $X_{20}\\neq 0$. Ο νόμος των μεγάλων αριθμών δίνει ότι: \n",
    "$$ \\lim_{N\\to\\infty}\\frac{Y_1+\\cdots+Y_N}{N}=\\mathbb{E}_0[Y]=\\mathbb{P}_0[X_{20}=0].$$\n",
    "\n",
    "Επομένως, όταν το `N` είναι μεγάλο, το ποσοστό των φορών στις οποίες συνέβη το ενδεχόμενο $\\{X_{20}=0\\}$ είναι μια καλή εκτίμηση της πιθανότητας $\\mathbb{P}_0[X_{20}=0]$. Το ποσοστό αυτό $\\hat{p}_N$ που ονομάζεται `phat` στον παρακάτω κώδικα είναι η εκτιμήτρια Monte Carlo της πιθανότητας $\\mathbb{P}_0[X_{20}=0]$.\n",
    "\n",
    "Παρακάτω έχουμε κατασκευάσει μία συνάρτηση Monte Carlo που να υπολογίζει το phat, δεχόμενη ως εισόδους το πλήθος επανήψεων Ν και τα βήματα steps. Το print_results το χρησιμοποιούμε εδώ για να τεστάρουμεαποτελέσματα."
   ]
  },
  {
   "cell_type": "code",
   "execution_count": 2,
   "metadata": {
    "scrolled": true
   },
   "outputs": [
    {
     "name": "stdout",
     "output_type": "stream",
     "text": [
      "\n",
      "           We executed 2000 times the first 20 steps of the markov chain\n",
      "           and we captured the running state in state zero 417 times.\n",
      "           So we estimate the Pr[X_20 = 0 | X_0 = 0] to be 0.2085\n",
      "           \n"
     ]
    },
    {
     "data": {
      "text/plain": [
       "0.2085"
      ]
     },
     "execution_count": 2,
     "metadata": {},
     "output_type": "execute_result"
    }
   ],
   "source": [
    "def Monte_Carlo(N, steps, print_results):  ## N, steps: Experiment parameters. print_results: wether to print results.\n",
    "    ## Simulation\n",
    "    counter = 0  # to count the number of times the event {X_20  = 0} occurs\n",
    "    for i in range(N): \n",
    "        mc.start()  # new experiment\n",
    "        for j in range(steps):  mc.move()\n",
    "        if mc.running_state == 0:  counter += 1\n",
    "        phat = counter / N\n",
    "    if print_results == 1:\n",
    "        print(   \n",
    "           \"\"\"\n",
    "           We executed {0} times the first {1} steps of the markov chain\n",
    "           and we captured the running state in state zero {2} times.\n",
    "           So we estimate the Pr[X_{1} = 0 | X_0 = 0] to be {3}\n",
    "           \"\"\".format(N, steps, counter, phat)\n",
    "        )\n",
    "    return phat\n",
    "\n",
    "\n",
    "\n",
    "Monte_Carlo(2000, 20, 1) #Παράδειγμα χρησιμοποίησής της func που κατασκευάσαμε, με εκτύπωση των αποτελεσμάτων.\n",
    "\n"
   ]
  },
  {
   "cell_type": "markdown",
   "metadata": {},
   "source": [
    "Το επόμενο κομμάτι κώδικα δημιουργεί μια λίστα $Μ=50$ δειγμάτων από εκτιμήτριες Monte Carlo $\\hat{p}_N$ και υπολογίζει τη μέση τιμή και τη διασπορά, για N=200 και Ν=20.0000 αντίστοιχα."
   ]
  },
  {
   "cell_type": "code",
   "execution_count": 3,
   "metadata": {},
   "outputs": [
    {
     "name": "stdout",
     "output_type": "stream",
     "text": [
      " \n",
      "    Η μέση τιμή 50 εκτιμήσεων Μόντε Κάρλο για N=200 είναι 0.19990 και η διακύμανση 0.00082 \n",
      "    \n",
      " \n",
      "    Η μέση τιμή 50 εκτιμήσεων Μόντε Κάρλο για N=20.000 είναι 0.20334 και η διακύμανση 0.00001\n",
      "    \n"
     ]
    }
   ],
   "source": [
    "import statistics as stat    ## import the library statistics. We will use it to compute the mean and variance of our list\n",
    "estimates=[]                 ## create the empty list estimates.\n",
    "for i in range(50):                            ## in each of 50 runs generate a Monte carlo phat, without printing. \n",
    "    estimates.append( Monte_Carlo(200, 20, 0)) ## and append it to the list estimates\n",
    "print(\n",
    "    \"\"\" \n",
    "    Η μέση τιμή 50 εκτιμήσεων Μόντε Κάρλο για N=200 είναι {0:.5f} και η διακύμανση {1:.5f} \n",
    "    \"\"\".format(stat.mean(estimates), stat.variance(estimates))\n",
    ")\n",
    "    ## compute the mean and variance of the elements in our list keeping only 5 decimal digits\n",
    "    \n",
    "estimates=[]                 ## empty list estimates.\n",
    "for i in range(50):                            ## in each of 50 runs generate a Monte carlo phat, without printing. \n",
    "    estimates.append( Monte_Carlo(20000, 20, 0)) ## and append it to the list estimates\n",
    "print(\n",
    "    \"\"\" \n",
    "    Η μέση τιμή 50 εκτιμήσεων Μόντε Κάρλο για N=20.000 είναι {0:.5f} και η διακύμανση {1:.5f}\n",
    "    \"\"\".format(stat.mean(estimates), stat.variance(estimates))\n",
    ")\n",
    "    ## compute the mean and variance of the elements in our list keeping only 5 decimal digits\n"
   ]
  },
  {
   "cell_type": "markdown",
   "metadata": {},
   "source": [
    "## Ερωταπαντήσεις:\n",
    "\n",
    "### 1. Ποια είναι μέση εκτίμηση της πιθανότητας $\\mathbb{P}_0[X_{20}=0]$ όταν $N=200$ και ποια όταν $N=20.000$;\n",
    "\n",
    "Για  τιμή $Ν=200$:   $\\bar{x} = 0.19990$ \n",
    "\n",
    "Για $Ν=200.000$:   $\\bar{x} = 0.20334$ \n",
    "\n",
    "Παρατηρούμε ότι οι δύο τιμές διαφέρουν ελάχιστα μεταξύ τους.\n",
    "\n",
    "### 2. Είναι αυτά τα αποτελέσματα κοντά στη θεωρητική τιμή που έχετε υπολογίσει;\n",
    "\n",
    " Η θεωρητική τιμή που είχαμε υπολογίσει ήταν περί του $0.2$. Άρα το αποτέλεσμα $\\approx 0.2$ είναι ικανοποιητικό ως προς την θεωρητική τιμή.\n",
    "\n",
    "### 3. Ποια είναι η δειγματική διασπορά των $M=50$ εκτιμήσεων στις δύο περιπτώσεις;\n",
    "\n",
    "Για  τιμή $Ν=200$:   ${σ}^2 = 0.00082$ \n",
    "\n",
    "Για $Ν=20.000$:   ${σ}^2 = 0.00001$ \n",
    "\n",
    "Βλέπουμε ότι στην πρώτη περίπτωση έχουμε κάποια διασπορά, αλλά στην 2η περίπτωση, τα 4 πρώτα σημαντικά στοιχεία είναι μηδενικά, οπότε υπάρχει φαινομενικά μηδαμινή διασπορά. Οπότε αξίζει να τρέξουμε N=20.000.\n",
    "\n",
    "### 4. Αλλάζει ουσιαστικά η εκτίμησή σας, αν η αλυσίδα ξεκινάει από την κατάσταση `2` (τρίτη γραμμή του πίνακα);\n",
    "\n",
    "Όχι, αλλά σε περίπτωση που δε με πιστεύετε:"
   ]
  },
  {
   "cell_type": "code",
   "execution_count": 4,
   "metadata": {},
   "outputs": [
    {
     "name": "stdout",
     "output_type": "stream",
     "text": [
      " \n",
      "    Η μέση τιμή 50 εκτιμήσεων Μόντε Κάρλο για N=20.000 είναι 0.20406 και η διακύμανση 0.00001 \n",
      "    \n"
     ]
    }
   ],
   "source": [
    "init_probs = {2: 1.0} # Αρχικοποιούμε την κατανομή στην θέση 2 (3η γραμμή, ξεκινάμε από το 0, ως γνήσια παιδιά της C)\n",
    "\n",
    "mc = markov_chain(markov_table, init_probs) #ξαναφτιάχνουμε την αλυσίδα\n",
    "\n",
    "import statistics as stat    ## import the library statistics. We will use it to compute the mean and variance of our list\n",
    "estimates=[]                 ## create the empty list estimates.\n",
    "for i in range(50):                            ## in each of 50 runs generate a Monte carlo phat, without printing. \n",
    "    estimates.append( Monte_Carlo(20000, 20, 0)) ## and append it to the list estimates\n",
    "print(\n",
    "    \"\"\" \n",
    "    Η μέση τιμή 50 εκτιμήσεων Μόντε Κάρλο για N=20.000 είναι {0:.5f} και η διακύμανση {1:.5f} \n",
    "    \"\"\".format(stat.mean(estimates), stat.variance(estimates))\n",
    ")\n",
    "    ## compute the mean and variance of the elements in our list keeping only 5 decimal digits\n",
    "\n"
   ]
  },
  {
   "cell_type": "markdown",
   "metadata": {},
   "source": [
    "Άρα δεν υπάρχει ουσιαστική διαφορά μεταξύ των εκτιμήσεων."
   ]
  },
  {
   "cell_type": "markdown",
   "metadata": {
    "collapsed": true
   },
   "source": [
    "## Άσκηση 38 βιβλίου:"
   ]
  },
  {
   "cell_type": "markdown",
   "metadata": {},
   "source": [
    "Στην εν λόγω άσκηση, θα εκτιμήσουμε με *Monte Carlo* την πιθανότητα νίκης του παίκτη που σερβίρει (`Player A`) σε ένα παιχνίδι τέννις, αν η πιθανότητα που έχει να κερδίσει κάθε πόντο είναι $p = 0,6$. "
   ]
  },
  {
   "cell_type": "markdown",
   "metadata": {},
   "source": [
    "Θα εργαστούμε βάσει του παρακάτω διαγράμματος, το οποίο δείχνει τις μεταβάσεις ενός παιχνιδιού τέννις.\n",
    "\n",
    "![Markov Chain of Tennis Game](https://www.wolfram.com/mathematica/new-in-9/markov-chains-and-queues/HTMLImages.en/analyze-a-tennis-game/O_23.png)"
   ]
  },
  {
   "cell_type": "markdown",
   "metadata": {},
   "source": [
    "Το παραπάνω πρακτικά αποτελεί μία αλυσίδα Markov, η οποία έχει χώρο καταστάσεων:\n",
    "\n",
    "$\\mathbb{X}=$ {$0-0, 15-0, 0-15, 30-0, 15-15, 0-30, 40-0, 30-15, 15-30, 0-40, 40-15, 15-40, Deuce, AdvA, AdvB, GamA, GameB$}\n",
    "\n",
    "Η αρχική κατανομή της προφανώς λαμβάνεται, δίνοντας πιθανότητα $1$ στην κατάσταση $0-0$, και ο πίνακας μεταβάσεών της, μετατρέποντας τον παραπάνω γράφο σε πίνακα, δίνοντας πιθανότητα $p$ σε κάθε πόντο του Α, και $1-p$, σε κάθε πόντο του B.\n",
    "\n",
    "Παρακάτω κατασκευάζουμε στην python, την αρχική κατανομή και τον πίνακα μεταβάσεων."
   ]
  },
  {
   "cell_type": "code",
   "execution_count": 5,
   "metadata": {},
   "outputs": [],
   "source": [
    "import random\n",
    "random.seed(2018)  # for reproducibility\n",
    "from simple_markov_chain_lib import markov_chain\n",
    "\n",
    "p = 0.6\n",
    "\n",
    "# A dictionary for the initial distibution. \n",
    "# We prescribe the initial distribution\n",
    "init_probs = {' 0 -  0': 1.0} \n",
    " \n",
    "# A dictionary for the transition probability  matrix. \n",
    "# Every state-key corresponds to a list with tuples of (Next_State,Probability) \n",
    "markov_table = {\n",
    "    ' 0 -  0': {'15 -  0': p, ' 0 - 15': 1-p},\n",
    "    ' 0 - 15': {'15 - 15': p, ' 0 - 30': 1-p},\n",
    "    ' 0 - 30': {'15 - 30': p, ' 0 - 40': 1-p},\n",
    "    ' 0 - 40': {'15 - 40': p, ' GameB ': 1-p},\n",
    "    '15 -  0': {'30 -  0': p, '15 - 15': 1-p},\n",
    "    '15 - 15': {'30 - 15': p, '15 - 30': 1-p},\n",
    "    '15 - 30': {' Deuce ': p, '15 - 40': 1-p},\n",
    "    '15 - 40': {'  AdvB ': p, ' GameB ': 1-p},\n",
    "    '30 -  0': {'40 -  0': p, '30 - 15': 1-p},\n",
    "    '30 - 15': {'40 - 15': p, ' Deuce ': 1-p},\n",
    "    '40 -  0': {' GameA ': p, '40 - 15': 1-p},\n",
    "    '40 - 15': {' GameA ': p, '  AdvA ': 1-p},\n",
    "    ' Deuce ': {'  AdvA ': p, '  AdvB ': 1-p},\n",
    "    '  AdvA ': {' GameA ': p, ' Deuce ': 1-p},\n",
    "    '  AdvB ': {' Deuce ': p, ' GameB ': 1-p},\n",
    "    ' GameA ': {' GameA ': 1},\n",
    "    ' GameB ': {' GameB ': 1}\n",
    "}\n",
    " \n",
    "# Ok... we are ready now\n",
    "# Let's construct a Markov Chain. So let's call the constructor\n",
    "mc = markov_chain(markov_table, init_probs)"
   ]
  },
  {
   "cell_type": "markdown",
   "metadata": {},
   "source": [
    "Θέλουμε να εκτιμήσουμε την πιθανότητα $\\mathbb{P}[X=GameA]=\\mathbb{P}\\left[X = GameA \\mid X_0 = 0-0 \\right]$. \n",
    "\n",
    "Ακολουθεί η συνάρτηση Monte_Carlo_Tennis. Σημειώνεται ότι αυτή τη φορά, η επανάληψη λήγει μόλις φτάσω σε GameA ή GameΒ (Δεν υπάρχουν προκαθορισμένα steps).\n",
    "\n",
    "Υπόψιν, ότι παρόλο που έχουμε το while για να τερματίσουμε απευθείας την επανάληψη σε περίπτωση που φτάσουμε σε καταβόθρα, έχουμε και ορίσει και τα steps, ώστε να τερματίζει ούτως ή άλλως, και να θεωρείται Monte Carlo και όχι Las Vegas (παρόλο που η πιθανότητα να μην τερματίσει ποτέ είναι πρακτικά μηδαμινή)."
   ]
  },
  {
   "cell_type": "code",
   "execution_count": 6,
   "metadata": {},
   "outputs": [
    {
     "name": "stdout",
     "output_type": "stream",
     "text": [
      "\n",
      "            We executed the markov chain 200 times  \n",
      "            and we captured the running state in state ' GameA ' 148 times.\n",
      "            So we estimate the Pr[X_148 = GameA | X_0 =0-0] to be 0.74\n",
      "            \n"
     ]
    },
    {
     "data": {
      "text/plain": [
       "0.74"
      ]
     },
     "execution_count": 6,
     "metadata": {},
     "output_type": "execute_result"
    }
   ],
   "source": [
    "def Monte_Carlo_Tennis(N, steps, print_results): \n",
    "    ## Simulation\n",
    "    counter = 0  # to count the number of times the event {X= GameA} occurs\n",
    "    for i in range(N):\n",
    "        mc.start()         # new experiment\n",
    "        rem_steps = steps  #βήματα που απομένουν\n",
    "        while (((mc.running_state != ' GameA ') and (mc.running_state != ' GameB ')) and rem_steps > 0):  \n",
    "            mc.move()\n",
    "            rem_steps -= 1\n",
    "        if mc.running_state == ' GameA ':  counter += 1\n",
    "\n",
    "    phat = counter / N\n",
    "    if print_results == 1: #Εαν θέλω να έχω εποπτεία στα αποτελέσματα\n",
    "        print(\n",
    "            \"\"\"\n",
    "            We executed the markov chain {0} times  \n",
    "            and we captured the running state in state ' GameA ' {1} times.\n",
    "            So we estimate the Pr[X_{1} = GameA | X_0 =0-0] to be {2}\n",
    "            \"\"\".format(N, counter, phat)\n",
    "        )\n",
    "    return phat\n",
    "\n",
    "Monte_Carlo_Tennis(200, 100, 1) #Το τρέχω μια φορά για να δω τι βγάζει"
   ]
  },
  {
   "cell_type": "markdown",
   "metadata": {
    "collapsed": true
   },
   "source": [
    "Βρήκαμε μία τιμή για την εκτιμήτρια $\\hat{p}_N$, αλλά ας μην σταθούμε εδώ.\n",
    "\n",
    "Εμπνευσμένοι από το προηγούμενο παράδειγμα, θα βρούμε ένα πλήθος Ν, για δείγμα $M=50$ εκτιμήσεων Monte Carlo, για το οποίο μηδενίζεται η διασπορά $σ^2$ στο αντίστοιχο δείγμα 50 εκτιμητριών Monte Carlo, ωστέ να είμαστε ευχαριστημένοι από την ακρίβεια.\n",
    "\n",
    "Ακολουθεί ο κώδικας για $N=20.000$"
   ]
  },
  {
   "cell_type": "code",
   "execution_count": 7,
   "metadata": {},
   "outputs": [
    {
     "name": "stdout",
     "output_type": "stream",
     "text": [
      " \n",
      "    Η μέση τιμή 50 εκτιμήσεων Μόντε Κάρλο για N=20.000 είναι 0.73535 και η διακύμανση 0.00001 \n",
      "    \n"
     ]
    }
   ],
   "source": [
    "import statistics as stat    ## import the library statistics. We will use it to compute the mean and variance of our list\n",
    "estimates=[]                 ## create the empty list estimates.\n",
    "for i in range(50):                            ## in each of 50 runs generate a Monte carlo phat, without printing. \n",
    "    estimates.append( Monte_Carlo_Tennis(20000, 100, 0)) ## and append it to the list estimates\n",
    "print(\n",
    "    \"\"\" \n",
    "    Η μέση τιμή 50 εκτιμήσεων Μόντε Κάρλο για N=20.000 είναι {0:.5f} και η διακύμανση {1:.5f} \n",
    "    \"\"\".format(stat.mean(estimates), stat.variance(estimates))\n",
    ")\n",
    "    ## compute the mean and variance of the elements in our list keeping only 5 decimal digits"
   ]
  },
  {
   "cell_type": "markdown",
   "metadata": {},
   "source": [
    "Aς δοκιμάσουμε ξανά για $Ν=40.000$."
   ]
  },
  {
   "cell_type": "code",
   "execution_count": 8,
   "metadata": {},
   "outputs": [
    {
     "name": "stdout",
     "output_type": "stream",
     "text": [
      " \n",
      "    Η μέση τιμή 50 εκτιμήσεων Μόντε Κάρλο για N=40.000 είναι 0.73584 και η διακύμανση 0.00001 \n",
      "    \n"
     ]
    }
   ],
   "source": [
    "import statistics as stat    ## import the library statistics. We will use it to compute the mean and variance of our list\n",
    "estimates=[]                 ## create the empty list estimates.\n",
    "for i in range(50):                            ## in each of 50 runs generate a Monte carlo phat, without printing. \n",
    "    estimates.append( Monte_Carlo_Tennis(40000, 100, 0)) ## and append it to the list estimates\n",
    "print(\n",
    "    \"\"\" \n",
    "    Η μέση τιμή 50 εκτιμήσεων Μόντε Κάρλο για N=40.000 είναι {0:.5f} και η διακύμανση {1:.5f} \n",
    "    \"\"\".format(stat.mean(estimates), stat.variance(estimates))\n",
    ")\n",
    "    ## compute the mean and variance of the elements in our list keeping only 5 decimal digits"
   ]
  },
  {
   "cell_type": "markdown",
   "metadata": {},
   "source": [
    "Οπότε μπορούμε να πούμε ότι είμαστε ευχαριστημένοι με την (μέση) τιμή $\\bar{\\hat{p}}_Ν= 0.73584$, η οποία συνάδει και με τη θεωρητική επίλυση του προβλήματος. "
   ]
  }
 ],
 "metadata": {
  "kernelspec": {
   "display_name": "Python 3",
   "language": "python",
   "name": "python3"
  },
  "language_info": {
   "codemirror_mode": {
    "name": "ipython",
    "version": 3
   },
   "file_extension": ".py",
   "mimetype": "text/x-python",
   "name": "python",
   "nbconvert_exporter": "python",
   "pygments_lexer": "ipython3",
   "version": "3.5.2"
  }
 },
 "nbformat": 4,
 "nbformat_minor": 2
}
