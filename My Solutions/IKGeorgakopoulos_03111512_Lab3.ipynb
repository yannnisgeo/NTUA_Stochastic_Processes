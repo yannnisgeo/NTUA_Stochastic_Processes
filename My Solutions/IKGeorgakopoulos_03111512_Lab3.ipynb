{
 "cells": [
  {
   "cell_type": "markdown",
   "metadata": {},
   "source": [
    "## Εθνικό Μετσόβιο Πολυτεχνείο \n",
    "## Σχολή Ηλεκτρολόγων Μηχανικών & Μηχανικών Υπολογιστών\n",
    "\n",
    "\n",
    "### Μάθημα: Στοχαστικές διαδικασίες\n",
    "### Διδάσκων: Μιχαήλ Λουλάκης\n",
    "### Ακαδημαϊκό έτος: 2017-2018\n"
   ]
  },
  {
   "cell_type": "markdown",
   "metadata": {},
   "source": [
    "### Ιωάννης Κ. Γεωργακόπουλος\n",
    "### Α.Μ.: 03111512\n"
   ]
  },
  {
   "cell_type": "markdown",
   "metadata": {},
   "source": [
    "# 3η Εργαστηριακή Άσκηση"
   ]
  },
  {
   "cell_type": "markdown",
   "metadata": {},
   "source": [
    "Σε αυτή την άσκηση θα εξοικειωθούμε με την κατασκευή διαγραμμάτων χρησιμοποιώντας τη βιβλιοθήκη matplotlib.\n",
    "\n",
    "Αρχικά φορτώνουμε τις βιβλιοθήκες που θα χρησιμοποιήσουμε.\n"
   ]
  },
  {
   "cell_type": "code",
   "execution_count": 1,
   "metadata": {
    "collapsed": true
   },
   "outputs": [],
   "source": [
    "import numpy as np  # numerical computations library. We will call it np in our code\n",
    "import matplotlib.pyplot as plt  # library for plotting. We will call it plt in our code\n",
    "\n",
    "# to plot the results in the notebook:\n",
    "%matplotlib inline"
   ]
  },
  {
   "cell_type": "markdown",
   "metadata": {},
   "source": [
    "Παρακάτω παραθέτουμε το κομμάτι κώδικα για το πρόβλημα με το τέννις, τροποποιημένο, ώστε να μπορούμε να εισάγουμε την πιθανότητα $p$ ως παράμετρο της συνάρτησης MonteCarlo."
   ]
  },
  {
   "cell_type": "code",
   "execution_count": 2,
   "metadata": {},
   "outputs": [
    {
     "name": "stdout",
     "output_type": "stream",
     "text": [
      "\n",
      "            We executed the markov chain 200 times  \n",
      "            and we captured the running state in state ' GameA ' 158 times.\n",
      "            So we estimate the Pr[X_158 = GameA | X_0 =0-0] to be 0.79\n",
      "            \n"
     ]
    },
    {
     "data": {
      "text/plain": [
       "0.79"
      ]
     },
     "execution_count": 2,
     "metadata": {},
     "output_type": "execute_result"
    }
   ],
   "source": [
    "import random\n",
    "random.seed(11512)  # for reproducibility\n",
    "from simple_markov_chain_lib import markov_chain\n",
    "\n",
    "\n",
    "def Monte_Carlo_Tennis(p, N, steps, print_results): #Προσθέτουμε την παράμετρο p στη συνάρτηση\n",
    "    \n",
    "    # A dictionary for the initial distibution. \n",
    "    # We prescribe the initial distribution\n",
    "    init_probs = {' 0 -  0': 1.0} \n",
    " \n",
    "    # A dictionary for the transition probability  matrix. \n",
    "    # Every state-key corresponds to a list with tuples of (Next_State,Probability) \n",
    "    markov_table = {\n",
    "        ' 0 -  0': {'15 -  0': p, ' 0 - 15': 1-p},\n",
    "        ' 0 - 15': {'15 - 15': p, ' 0 - 30': 1-p},\n",
    "        ' 0 - 30': {'15 - 30': p, ' 0 - 40': 1-p},\n",
    "        ' 0 - 40': {'15 - 40': p, ' GameB ': 1-p},\n",
    "        '15 -  0': {'30 -  0': p, '15 - 15': 1-p},\n",
    "        '15 - 15': {'30 - 15': p, '15 - 30': 1-p},\n",
    "        '15 - 30': {' Deuce ': p, '15 - 40': 1-p},\n",
    "        '15 - 40': {'  AdvB ': p, ' GameB ': 1-p},\n",
    "        '30 -  0': {'40 -  0': p, '30 - 15': 1-p},\n",
    "        '30 - 15': {'40 - 15': p, ' Deuce ': 1-p},\n",
    "        '40 -  0': {' GameA ': p, '40 - 15': 1-p},\n",
    "        '40 - 15': {' GameA ': p, '  AdvA ': 1-p},\n",
    "        ' Deuce ': {'  AdvA ': p, '  AdvB ': 1-p},\n",
    "        '  AdvA ': {' GameA ': p, ' Deuce ': 1-p},\n",
    "        '  AdvB ': {' Deuce ': p, ' GameB ': 1-p},\n",
    "        ' GameA ': {' GameA ': 1},\n",
    "        ' GameB ': {' GameB ': 1}\n",
    "    }\n",
    "     \n",
    "    # Ok... we are ready now\n",
    "    # Let's construct a Markov Chain. So let's call the constructor\n",
    "    mc = markov_chain(markov_table, init_probs)\n",
    "    \n",
    "    \n",
    "    \n",
    "    ## Simulation\n",
    "    counter = 0  # to count the number of times the event {X= GameA} occurs\n",
    "    for i in range(N):\n",
    "        mc.start()         # new experiment\n",
    "        rem_steps = steps  #βήματα που απομένουν\n",
    "        while (((mc.running_state != ' GameA ') and (mc.running_state != ' GameB ')) and rem_steps > 0):  \n",
    "            mc.move()\n",
    "            rem_steps -= 1\n",
    "        if mc.running_state == ' GameA ':  counter += 1\n",
    "\n",
    "    phat = counter / N\n",
    "    if print_results == 1: #Εαν θέλω να έχω εποπτεία στα αποτελέσματα\n",
    "        print(\n",
    "            \"\"\"\n",
    "            We executed the markov chain {0} times  \n",
    "            and we captured the running state in state ' GameA ' {1} times.\n",
    "            So we estimate the Pr[X_{1} = GameA | X_0 =0-0] to be {2}\n",
    "            \"\"\".format(N, counter, phat)\n",
    "        )\n",
    "    return phat\n",
    "\n",
    "Monte_Carlo_Tennis(0.6, 200, 100, 1) #Το τρέχω μια φορά για να δω τι βγάζει"
   ]
  },
  {
   "cell_type": "markdown",
   "metadata": {},
   "source": [
    "Στη συνέχεια θα φτιάξουμε μία λίστα με τα αποτελέσματα για όλες τις πιθανότητες νίκης. X, Y Άξονες."
   ]
  },
  {
   "cell_type": "code",
   "execution_count": 3,
   "metadata": {},
   "outputs": [],
   "source": [
    "# Create a list of real numbers from start to end by step\n",
    "start, end, step = 0.02, 1, 0.02\n",
    "x = np.arange(start, end, step)  # x = [0.02, 0.04, ..., 0.96, 0.98, 1]\n",
    "\n",
    "y = [] #φτιάχνουμε την κενή λίστα του άξονα y\n",
    "\n",
    "for i in range(len(x)):    #Γεμίζουμε τη λίστα με append   \n",
    "    y.append(Monte_Carlo_Tennis(x[i], 200, 100, 0))    \n",
    "    "
   ]
  },
  {
   "cell_type": "markdown",
   "metadata": {
    "collapsed": true
   },
   "source": [
    "Και εν συνεχεία ενώνουμε αυτά τα σημεία με ευθείες γραμμές."
   ]
  },
  {
   "cell_type": "code",
   "execution_count": 4,
   "metadata": {},
   "outputs": [
    {
     "data": {
      "text/plain": [
       "<matplotlib.text.Text at 0xfa96e884e0>"
      ]
     },
     "execution_count": 4,
     "metadata": {},
     "output_type": "execute_result"
    },
    {
     "data": {
      "image/png": "[encoded data removed]",
      "text/plain": [
       "<matplotlib.figure.Figure at 0xfa930118d0>"
      ]
     },
     "metadata": {},
     "output_type": "display_data"
    }
   ],
   "source": [
    "# Let's plot (x,y)\n",
    "plt.figure()\n",
    "plt.plot(x, y)\n",
    "# Specify some extra attributes\n",
    "plt.xlabel('Πιθανότητα νίκης σε κάθε πόντο')\n",
    "plt.ylabel('Πιθανότητα νίκης του παίκτη')\n",
    "plt.title('Πρόβλημα Τέννις')"
   ]
  },
  {
   "cell_type": "markdown",
   "metadata": {},
   "source": [
    "Βλέπουμε ότι επειδή έχουμε πάρει πολύ μικρό πλήθος δειγμάτων, η σιγμοειδής γραφική παράσταση θέλει γυαλόχαρτο (Μεγαλύτερο πλήθος δειγμάτων). Ακολουθεί βελτιωμένος κώδιξ. Για την ακρίβεια, θα λάβουμε πλήθος δείγματος $N=40.000$, για το οποίο είδαμε στο προηγούμενο εργαστήριο ότι ελαχιστοποιείται η διακύμανση στις 50 εκτιμήσεις."
   ]
  },
  {
   "cell_type": "markdown",
   "metadata": {},
   "source": [
    "## Παραδοτέο 1"
   ]
  },
  {
   "cell_type": "code",
   "execution_count": 5,
   "metadata": {},
   "outputs": [
    {
     "data": {
      "text/plain": [
       "<matplotlib.text.Text at 0xfa970b2898>"
      ]
     },
     "execution_count": 5,
     "metadata": {},
     "output_type": "execute_result"
    },
    {
     "data": {
      "image/png": "[encoded data removed]",
      "text/plain": [
       "<matplotlib.figure.Figure at 0xfa9514cc50>"
      ]
     },
     "metadata": {},
     "output_type": "display_data"
    }
   ],
   "source": [
    "# Create a list of real numbers from start to end by step\n",
    "start, end, step = 0.02, 1, 0.02\n",
    "x = np.arange(start, end, step)  # x = [0.02, 0.04, ..., 0.96, 0.98, 1]\n",
    "\n",
    "y = [] #φτιάχνουμε την κενή λίστα του άξονα y\n",
    "\n",
    "for i in range(len(x)):    #Γεμίζουμε τη λίστα με append   \n",
    "    y.append(Monte_Carlo_Tennis(x[i], 40000, 100, 0))    #40.000 δείγματα\n",
    "    \n",
    "\n",
    "# Let's plot (x,y)\n",
    "plt.figure()\n",
    "plt.plot(x, y)\n",
    "# Specify some extra attributes\n",
    "plt.xlabel('Πιθανότητα νίκης σε κάθε πόντο')\n",
    "plt.ylabel('Πιθανότητα νίκης του παίκτη')\n",
    "plt.title('Πρόβλημα Τέννις')"
   ]
  },
  {
   "cell_type": "markdown",
   "metadata": {},
   "source": [
    "Πρακτικά, λαμβάνουμε σιγμοειδή συνάρτηση, διότι, η πιθανότητα της παιχνιδιού εξαρτάται από τον λόγο νίκης του κάθε παίκτη. Οπότε είναι λογικό να συγκλίνει ασυμπτωτικά στο 1, όταν η πιθανότητα του παίκτη που σερβίρει φτάνει κοντά στο 1, και στο 0 όταν φτάνει στο 0, και να είναι σχετικά γραμμική σε κεντρικές τιμές (0.4, 0.6) . Αυτό που έχει ενδιαφέρον, είναι ότι η νίκη του παίκτη συγκλίνει στο 1 αρκετά πριν φτάσει στο 1 η πιθανότητα νίκης του σε κάθε πόντο."
   ]
  },
  {
   "cell_type": "markdown",
   "metadata": {},
   "source": [
    "## Άσκηση 87\n",
    "\n",
    "Σε αυτή την άσκηση θα μελετήσουμε την διακύμανση του χρόνου απορρόφησης μιας αλυσίδας Markov.\n",
    "Στο παρακάτω κελί δημιουργούμε μια αλυσίδα Markov που ζει στο χώρο καταστάσεων $\\mathbb{X} = \\{0, 1, 2, 3, 4\\}$ με πίνακα πιθανοτήτων μετάβασης\n",
    "\n",
    "$$\n",
    "P = \n",
    "\\begin{pmatrix}\n",
    "2/5   & 1/2 & 1/10 &  0  & 0 \\\\\n",
    "1/3 &  0  &  0  & 2/3 & 0 \\\\\n",
    "0   &  0  &  1  &  0  & 0 \\\\\n",
    "1/2 &  1/8  &  0  & 1/4 & 1/8 \\\\\n",
    "0   &  0  &  0  &  0  & 1 \n",
    "\\end{pmatrix}\n",
    "$$\n",
    "\n",
    "και αρχική κατανομή: \n",
    "\n",
    "$$ \\pi_0 = (1, 0, 0, 0, 0 ) $$"
   ]
  },
  {
   "cell_type": "code",
   "execution_count": 6,
   "metadata": {
    "collapsed": true
   },
   "outputs": [],
   "source": [
    "from simple_markov_chain_lib import markov_chain  # import markov chain simulator\n",
    "\n",
    "# Transition Table\n",
    "markov_table = {\n",
    "    0: {1: .5, 2: .5},  # from state 0 we move to state 1 with prob 0.5 and to state 2 with 0.5\n",
    "    1: {0: 1/3, 3: 2/3},\n",
    "    2: {2: 1.},\n",
    "    3: {0: .5, 3: .25, 4: .25},\n",
    "    4: {4: 1.}\n",
    "}\n",
    "\n",
    "# Initial Distribution\n",
    "init_dist = {0: 1.}  # we start from state 0 with probability 1\n",
    "\n",
    "mc = markov_chain(markov_table, init_dist)"
   ]
  },
  {
   "cell_type": "markdown",
   "metadata": {},
   "source": [
    "Προφανώς οι καταστάσεις `2` και `4` είναι \"απορροφητικές\". \n",
    "Μπορούμε να χρησιμοποιήσουμε την αλύσίδα `mc` για να εκτιμήσουμε τον χρόνο απορρόφησης της αλυσίδας.\n",
    "\n",
    "Για να το κάνουμε αυτό θα τρέξουμε την αλυσίδα $Ν$ φορές. Η εκτιμήτρια Monte Carlo $E_N$ του χρόνου απορρόφησης είναι ο μέσος όρος των χρόνων απορρόφησης σε αυτά τα $N$ δείγματα."
   ]
  },
  {
   "cell_type": "code",
   "execution_count": 7,
   "metadata": {},
   "outputs": [
    {
     "name": "stdout",
     "output_type": "stream",
     "text": [
      "The estimated absorption time is 5.38 steps\n"
     ]
    }
   ],
   "source": [
    "sample_size = 2 ** 5  # Ν\n",
    "running_total = 0\n",
    "\n",
    "for i in range(sample_size):\n",
    "    mc.start()\n",
    "    while mc.running_state != 2 and mc.running_state != 4:\n",
    "        mc.move()\n",
    "    running_total += mc.steps  # steps it took to be absorbed\n",
    "\n",
    "mc_estimate = running_total / sample_size\n",
    "print(\"The estimated absorption time is %.2f steps\" % mc_estimate)"
   ]
  },
  {
   "cell_type": "markdown",
   "metadata": {},
   "source": [
    "Έχουμε υπόψιν ότι η εκτιμήτρια $E_N$ είναι μια τυχαία μεταβλητή. Σκοπός αυτής της άσκησης είναι να βρούμε υπολογιστικά πώς επηρεάζεται η διασπορά της $E_N$ από το πλήθος των επαναλήψεων $N$. Το πώς υπολογίζουμε τη δειγματική διασπορά $Μ$ παρατηρήσεων το έχουμε δει στο προηγούμενο εργαστήριο. Περιμένουμε ότι όσο το $N$ μεγαλώνει η διασπορά της $E_N$ πέφτει, αλλά θέλουμε να καταλάβουμε αυτή τη σχέση ποσοτικά.\n",
    "\n",
    "Για να το κάνουμε αυτό πρέπει να επαναλάβουμε την παραπάνω διαδικασία $M = 30$ φορές ώστε να πάρουμε $M$ δείγματα της τυχαίας μεταβλητής $E_N$ από τα οποία θα εκτιμήσουμε τη διασπορά της. Στη συνέχεια θα επαναλάβουμε τη διαδικασία  για διαφορετικά $N$ και θα προσπαθήσουμε να κατανοήσουμε πώς αλλάζει η διασπορά της $E_N$ με το $N$. "
   ]
  },
  {
   "cell_type": "markdown",
   "metadata": {},
   "source": [
    "## Παραδοτέο 2\n",
    "\n",
    "Υπολογίστε την διασπορά της εκτιμήτριας $E_N$ για $N$ (`sample_size`) $2^5, \\dots, 2^{12}$ και φτιάξτε το γράφημα της συνάρτησης $Var(E_N)$ σε κανονική και σε λογαριθμική κλίμακα. Γράψτε τον κώδικά σας στο Jupyter notebook που ανοίξατε για το Παραδοτέο 1 και τρέξτε τον κώδικα ώστε να φαίνονται οι γραφικές παραστάσεις. Αν εμφανίζεται κάπου μια ευθεία, εκτιμήστε την κλίση της. Στη συνέχεια, σε ένα κελί κειμένου εξηγήστε γιατί θα περιμέναμε αυτό το αποτέλεσμα από τη θεωρία.\n",
    "\n",
    "Αρχικά φτιάχνουμε μία def Monte_Carlo, ώστε να παραμετροποιήσουμε το Sample_Size"
   ]
  },
  {
   "cell_type": "code",
   "execution_count": 8,
   "metadata": {},
   "outputs": [],
   "source": [
    "def Monte_Carlo(sample_size): \n",
    "    running_total = 0\n",
    "\n",
    "    for i in range(sample_size):\n",
    "        mc.start()\n",
    "        while mc.running_state != 2 and mc.running_state != 4:\n",
    "            mc.move()\n",
    "        running_total += mc.steps  # steps it took to be absorbed\n",
    "\n",
    "    mc_estimate = running_total / sample_size\n",
    "    return mc_estimate"
   ]
  },
  {
   "cell_type": "markdown",
   "metadata": {},
   "source": [
    "Στη συνέχεια εισάγουμε τις βιβλιοθήκες statistics και φτιάχνουμε μια def για να παράγουμε την διασπορά 30 επαναλήψεων του MonteCarlo, με είσοδο το sample_size. "
   ]
  },
  {
   "cell_type": "code",
   "execution_count": 9,
   "metadata": {
    "collapsed": true
   },
   "outputs": [],
   "source": [
    "import statistics as stat    ## import the library statistics. We will use it to compute the mean and variance of our list\n",
    "\n",
    "def Var(sample_size):\n",
    "    estimates=[]                                    ## create the empty list estimates.\n",
    "    for i in range(30):                             ## in each of 30 runs generate a Monte carlo phat \n",
    "        estimates.append( Monte_Carlo(sample_size)) ## and append it to the list estimates\n",
    "    return stat.variance(estimates)                 ## return the variance"
   ]
  },
  {
   "cell_type": "markdown",
   "metadata": {},
   "source": [
    "Στη συνέχεια, θα φτιάξουμε τις λίστες που ανιστοιχούν στους άξονες $x$ και $y$, αντίστοιχα.\n",
    "\n"
   ]
  },
  {
   "cell_type": "code",
   "execution_count": 10,
   "metadata": {},
   "outputs": [],
   "source": [
    "# Create a list of real numbers from start to end by step\n",
    "start, end, step = 5, 12, 1\n",
    "x_temp = np.arange(start, end, step) # φτιάχνουμε πρώτα μία μεταβατική λίστα γιατί δεν ξέρουμε πάηθον\n",
    "\n",
    "x = 2 ** x_temp #Γεμίζουμε την λίστα x\n",
    "\n",
    "y = [] #φτιάχνουμε την κενή λίστα του άξονα y\n",
    "\n",
    "for i in range(len(x)):    #Γεμίζουμε τη λίστα με append   \n",
    "    y.append(Var(x[i])) "
   ]
  },
  {
   "cell_type": "markdown",
   "metadata": {},
   "source": [
    "Και στη συνέχεια, θα φτιάξουμε τις ζωγραφίτσες. "
   ]
  },
  {
   "cell_type": "code",
   "execution_count": 12,
   "metadata": {},
   "outputs": [
    {
     "data": {
      "image/png": "[encoded data removed]",
      "text/plain": [
       "<matplotlib.figure.Figure at 0xfa97add240>"
      ]
     },
     "metadata": {},
     "output_type": "display_data"
    }
   ],
   "source": [
    "plt.figure(figsize=(12, 7))  # define figure size\n",
    "\n",
    "# Right Axes\n",
    "plt.subplot(1, 2, 1)  # setup subplots 1-row, 2-cols, select the 1st\n",
    "plt.plot(x, y)\n",
    "plt.xlabel('Ν')\n",
    "plt.ylabel('Var')\n",
    "plt.title('Linear Axis')\n",
    "plt.grid(True)  # add grid-lines\n",
    "\n",
    "# Left Axes\n",
    "plt.subplot(1, 2, 2) # select the 2nd subplot\n",
    "plt.loglog(x, y, basex=2, basey=2)\n",
    "plt.xlabel('N')\n",
    "plt.ylabel('Var')\n",
    "plt.title('Log-log Axis')\n",
    "plt.grid(True)\n",
    "\n",
    "plt.subplots_adjust(wspace = 0.5)  # specify the width space"
   ]
  },
  {
   "cell_type": "markdown",
   "metadata": {},
   "source": [
    "Παρατηρούμε ότι στο λογαριθμικό διάγραμμα λαμβάνουμε σχεδόν ευθεία. Άρα, μιας και δεν έχουμε ζωή, ας υπολογίσουμε προσεγγιστικά με τη μέθοδο ελαχίστων τετραγώνων την κλίση της."
   ]
  },
  {
   "cell_type": "code",
   "execution_count": 15,
   "metadata": {},
   "outputs": [
    {
     "data": {
      "text/plain": [
       "array([-1.03414165,  3.53347599])"
      ]
     },
     "execution_count": 15,
     "metadata": {},
     "output_type": "execute_result"
    }
   ],
   "source": [
    "# Λογαριθμίζουμε x, y προς υπολογισμό της κλίσης.\n",
    "newx = np.log2(x)\n",
    "newy = np.log2(y)\n",
    "\n",
    "np.polyfit(newx, newy, 1)"
   ]
  },
  {
   "cell_type": "markdown",
   "metadata": {},
   "source": [
    "Άρα η κλίση της ευθείας είνα περίπου $-1$. Δηλαδή, βλέπουμε ότι όσο αυξάνεται το δείγμα, τόσο μειώνεται η διασπορά των εκτιμητριών. Αυτό φυσικά συνάδει με την θεωρία, αφού είναι το ζουμί του νόμου των μεγάλων αριθμών, πράγμα το οποίο είδαμε μόλις πειραματικά. "
   ]
  }
 ],
 "metadata": {
  "kernelspec": {
   "display_name": "Python 3",
   "language": "python",
   "name": "python3"
  },
  "language_info": {
   "codemirror_mode": {
    "name": "ipython",
    "version": 3
   },
   "file_extension": ".py",
   "mimetype": "text/x-python",
   "name": "python",
   "nbconvert_exporter": "python",
   "pygments_lexer": "ipython3",
   "version": "3.6.5"
  }
 },
 "nbformat": 4,
 "nbformat_minor": 2
}
